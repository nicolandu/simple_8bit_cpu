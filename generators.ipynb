{
 "cells": [
  {
   "cell_type": "code",
   "execution_count": 5,
   "metadata": {},
   "outputs": [
    {
     "name": "stdout",
     "output_type": "stream",
     "text": [
      "#d 0x00\n",
      "#d 0x01\n",
      "#d 0x02\n",
      "#d 0x03\n",
      "#d 0x04\n",
      "#d 0x80\n",
      "#d 0x81\n",
      "#d 0x82\n",
      "#d 0x83\n",
      "#d 0x84\n",
      "#d 0x00\n",
      "#d 0x00\n",
      "#d 0x00\n",
      "#d 0x00\n",
      "#d 0x00\n",
      "#d 0x00\n"
     ]
    }
   ],
   "source": [
    "for x in range(16):\n",
    "    val = x if x <= 9 else 0\n",
    "    if val >= 5:\n",
    "        val += 0x7B\n",
    "    print(f'#d 0x{val:02X}')"
   ]
  }
 ],
 "metadata": {
  "kernelspec": {
   "display_name": "Python 3",
   "language": "python",
   "name": "python3"
  },
  "language_info": {
   "codemirror_mode": {
    "name": "ipython",
    "version": 3
   },
   "file_extension": ".py",
   "mimetype": "text/x-python",
   "name": "python",
   "nbconvert_exporter": "python",
   "pygments_lexer": "ipython3",
   "version": "3.9.5"
  },
  "orig_nbformat": 4,
  "vscode": {
   "interpreter": {
    "hash": "11938c6bc6919ae2720b4d5011047913343b08a43b18698fd82dedb0d4417594"
   }
  }
 },
 "nbformat": 4,
 "nbformat_minor": 2
}
